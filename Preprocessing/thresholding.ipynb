{
 "cells": [
  {
   "attachments": {},
   "cell_type": "markdown",
   "metadata": {},
   "source": [
    "## implemented functions"
   ]
  },
  {
   "cell_type": "code",
   "execution_count": 1,
   "metadata": {},
   "outputs": [
    {
     "name": "stdout",
     "output_type": "stream",
     "text": [
      "Optimal threshold: 143\n",
      "Otsu threshold: 143\n",
      "Spectral threshold: 167.193568\n"
     ]
    }
   ],
   "source": [
    "import numpy as np\n",
    "from PIL import Image\n",
    "import cv2\n",
    "def optimal_threshold(img):\n",
    "    hist, _ = np.histogram(img, bins=256)\n",
    "    pixels = img.shape[0] * img.shape[1]\n",
    "    sum_pixel = np.sum(np.arange(256) * hist)\n",
    "    sum_back = 0\n",
    "    w_back = 0\n",
    "    w_fore = 0\n",
    "    var_max = 0\n",
    "    threshold = 0\n",
    "\n",
    "    for i in range(256):\n",
    "        w_back += hist[i]\n",
    "        if w_back == 0:\n",
    "            continue\n",
    "        w_fore = pixels - w_back\n",
    "        if w_fore == 0:\n",
    "            break\n",
    "        sum_back += i * hist[i]\n",
    "        mean_back = sum_back / w_back\n",
    "        mean_fore = (sum_pixel - sum_back) / w_fore\n",
    "        var_between = w_back * w_fore * (mean_back - mean_fore) ** 2\n",
    "        if var_between > var_max:\n",
    "            var_max = var_between\n",
    "            threshold = i\n",
    "\n",
    "    return threshold\n",
    "\n",
    "def otsu_threshold(img):\n",
    "    hist, _ = np.histogram(img, bins=256)\n",
    "    pixels = img.shape[0] * img.shape[1]\n",
    "    sum_pixel = np.sum(np.arange(256) * hist)\n",
    "    sum_back = 0\n",
    "    w_back = 0\n",
    "    w_fore = 0\n",
    "    var_max = 0\n",
    "    threshold = 0\n",
    "\n",
    "    for i in range(256):\n",
    "        w_back += hist[i]\n",
    "        if w_back == 0:\n",
    "            continue\n",
    "        w_fore = pixels - w_back\n",
    "        if w_fore == 0:\n",
    "            break\n",
    "        sum_back += i * hist[i]\n",
    "        mean_back = sum_back / w_back\n",
    "        mean_fore = (sum_pixel - sum_back) / w_fore\n",
    "        var_between = w_back * w_fore * (mean_back - mean_fore) ** 2\n",
    "        if var_between > var_max:\n",
    "            var_max = var_between\n",
    "            threshold = i\n",
    "\n",
    "    return threshold\n",
    "\n",
    "def spectral_threshold(img):\n",
    "    mean = np.mean(img)\n",
    "    return mean\n",
    "\n",
    "# Load the grayscale image\n",
    "img = np.array(Image.open('gray2.jpg').convert('L'))\n",
    "\n",
    "# Optimal thresholding\n",
    "optimal_thresh = optimal_threshold(img)\n",
    "_, optimal_img = cv2.threshold(img, optimal_thresh, 255, cv2.THRESH_BINARY)\n",
    "print('Optimal threshold:', optimal_thresh)\n",
    "Image.fromarray(optimal_img).show()\n",
    "\n",
    "# Otsu thresholding\n",
    "otsu_thresh = otsu_threshold(img)\n",
    "_, otsu_img = cv2.threshold(img, otsu_thresh, 255, cv2.THRESH_BINARY)\n",
    "print('Otsu threshold:', otsu_thresh)\n",
    "Image.fromarray(otsu_img).show()\n",
    "\n",
    "# Spectral thresholding\n",
    "spectral_thresh = spectral_threshold(img)\n",
    "_, spectral_img = cv2.threshold(img, spectral_thresh, 255, cv2.THRESH_BINARY)\n",
    "print('Spectral threshold:', spectral_thresh)\n",
    "Image.fromarray(spectral_img).show()"
   ]
  },
  {
   "attachments": {},
   "cell_type": "markdown",
   "metadata": {},
   "source": [
    "## Built-in\n"
   ]
  },
  {
   "cell_type": "code",
   "execution_count": null,
   "metadata": {},
   "outputs": [],
   "source": [
    "import cv2\n",
    "import numpy as np\n",
    "\n",
    "# Load the grayscale image\n",
    "img = cv2.imread('gray2.jpg', 0)\n",
    "\n",
    "# Optimal thresholding\n",
    "threshold, thresh_img = cv2.threshold(img, 0, 255, cv2.THRESH_BINARY+cv2.THRESH_OTSU)\n",
    "print('Optimal threshold:', threshold)\n",
    "cv2.imshow('Optimal thresholding', thresh_img)\n",
    "\n",
    "# Otsu thresholding\n",
    "otsu_threshold, otsu_img = cv2.threshold(img, 0, 255, cv2.THRESH_BINARY+cv2.THRESH_OTSU)\n",
    "print('Otsu threshold:', otsu_threshold)\n",
    "cv2.imshow('Otsu thresholding', otsu_img)\n",
    "\n",
    "# Spectral thresholding\n",
    "mean = np.mean(img)\n",
    "spectral_threshold, spectral_img = cv2.threshold(img, mean, 255, cv2.THRESH_BINARY)\n",
    "print('Spectral threshold:', spectral_threshold)\n",
    "cv2.imshow('Spectral thresholding', spectral_img)\n",
    "\n",
    "# Wait for a key press and then exit\n",
    "cv2.waitKey(0)\n",
    "cv2.destroyAllWindows()"
   ]
  }
 ],
 "metadata": {
  "kernelspec": {
   "display_name": "base",
   "language": "python",
   "name": "python3"
  },
  "language_info": {
   "codemirror_mode": {
    "name": "ipython",
    "version": 3
   },
   "file_extension": ".py",
   "mimetype": "text/x-python",
   "name": "python",
   "nbconvert_exporter": "python",
   "pygments_lexer": "ipython3",
   "version": "3.9.12"
  },
  "orig_nbformat": 4
 },
 "nbformat": 4,
 "nbformat_minor": 2
}
